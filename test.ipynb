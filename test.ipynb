{
 "cells": [
  {
   "cell_type": "code",
   "execution_count": 95,
   "outputs": [],
   "source": [
    "import numpy as np\n",
    "CAPCITY = 0\n",
    "customers = []\n",
    "dis_matrix = None"
   ],
   "metadata": {
    "collapsed": false,
    "pycharm": {
     "name": "#%%\n",
     "is_executing": false
    }
   }
  },
  {
   "cell_type": "code",
   "execution_count": 96,
   "metadata": {
    "collapsed": true,
    "pycharm": {
     "is_executing": false
    }
   },
   "outputs": [],
   "source": [
    "class Route:\n",
    "    def __init__(self):\n",
    "        self.c_list = []\n",
    "        self.dis = 0\n",
    "    \n",
    "    def __copy__(self):\n",
    "        new_route = Route()\n",
    "        new_route.c_list = [i for i in self.c_list]\n",
    "        new_route.dis = self.dis\n"
   ]
  },
  {
   "cell_type": "code",
   "execution_count": 97,
   "outputs": [],
   "source": [
    "class Solution:\n",
    "    def __init__(self):\n",
    "        self.r_list = []\n",
    "        self.dis = 0\n",
    "    \n",
    "    def __copy__(self):\n",
    "        new_solution = Solution()\n",
    "        new_solution.r_list = [i.copy() for i in self.r_list]\n",
    "        new_solution.dis = self.dis\n",
    "    \n",
    "    def set_dis(self):\n",
    "        for i in self.r_list:\n",
    "            self.dis += i.dis\n",
    "    \n"
   ],
   "metadata": {
    "collapsed": false,
    "pycharm": {
     "name": "#%%\n",
     "is_executing": false
    }
   }
  },
  {
   "cell_type": "code",
   "execution_count": 98,
   "outputs": [],
   "source": [
    "import math\n",
    "\n",
    "class Customer:\n",
    "    \"\"\"\n",
    "    the class of customer,store and calulate the dis between two cus\n",
    "    \"\"\"\n",
    "    def __init__(self, x, y, cap, r_time, d_time , s_time):\n",
    "        self.x = int(x)\n",
    "        self.y = int(y)\n",
    "        self.cap = int(cap)\n",
    "        self.r_time = int(r_time)\n",
    "        self.d_time = int(d_time)\n",
    "        self.s_time = int(s_time)\n",
    "        \n",
    "    def get_dis(self ,other):\n",
    "        return math.sqrt((self.x - other.x)**2 + (self.y - other.y)**2)"
   ],
   "metadata": {
    "collapsed": false,
    "pycharm": {
     "name": "#%%\n",
     "is_executing": false
    }
   }
  },
  {
   "cell_type": "code",
   "execution_count": 99,
   "outputs": [
    {
     "name": "stdout",
     "text": [
      "['40', '50', '0', '0', '1236', '0']\n['40', '50', '0', '0', '1236', '0']\n['45', '68', '10', '912', '967', '90']\n['45', '68', '10', '912', '967', '90']\n['45', '70', '30', '825', '870', '90']\n['45', '70', '30', '825', '870', '90']\n['42', '66', '10', '65', '146', '90']\n['42', '66', '10', '65', '146', '90']\n['42', '68', '10', '727', '782', '90']\n['42', '68', '10', '727', '782', '90']\n['42', '65', '10', '15', '67', '90']\n['42', '65', '10', '15', '67', '90']\n['40', '69', '20', '621', '702', '90']\n['40', '69', '20', '621', '702', '90']\n['40', '66', '20', '170', '225', '90']\n['40', '66', '20', '170', '225', '90']\n['38', '68', '20', '255', '324', '90']\n['38', '68', '20', '255', '324', '90']\n['38', '70', '10', '534', '605', '90']\n['38', '70', '10', '534', '605', '90']\n['35', '66', '10', '357', '410', '90']\n['35', '66', '10', '357', '410', '90']\n['35', '69', '10', '448', '505', '90']\n['35', '69', '10', '448', '505', '90']\n['25', '85', '20', '652', '721', '90']\n['25', '85', '20', '652', '721', '90']\n['22', '75', '30', '30', '92', '90']\n['22', '75', '30', '30', '92', '90']\n['22', '85', '10', '567', '620', '90']\n['22', '85', '10', '567', '620', '90']\n['20', '80', '40', '384', '429', '90']\n['20', '80', '40', '384', '429', '90']\n['20', '85', '40', '475', '528', '90']",
      "\n['20', '85', '40', '475', '528', '90']\n['18', '75', '20', '99', '148', '90']\n['18', '75', '20', '99', '148', '90']\n['15', '75', '20', '179', '254', '90']\n['15', '75', '20', '179', '254', '90']\n['15', '80', '10', '278', '345', '90']\n['15', '80', '10', '278', '345', '90']\n['30', '50', '10', '10', '73', '90']\n['30', '50', '10', '10', '73', '90']\n['30', '52', '20', '914', '965', '90']\n['30', '52', '20', '914', '965', '90']\n['28', '52', '20', '812', '883', '90']\n['28', '52', '20', '812', '883', '90']\n['28', '55', '10', '732', '777', '90']\n['28', '55', '10', '732', '777', '90']\n['25', '50', '10', '65', '144', '90']\n['25', '50', '10', '65', '144', '90']\n['25', '52', '40', '169', '224', '90']\n['25', '52', '40', '169', '224', '90']\n"
     ],
     "output_type": "stream"
    }
   ],
   "source": [
    "import re\n",
    "def read_file(filename):\n",
    "    \"\"\"\n",
    "    read_file\n",
    "    :param filename: Solomon \n",
    "    :return: None\n",
    "    \"\"\"\n",
    "    f = open(filename) \n",
    "    global CAPCITY, customers\n",
    "    CAPCITY = f.readline()\n",
    "    lines = f.readlines()\n",
    "    for line in lines:\n",
    "        line = re.split('(?s)\\s+',line)[2:-1]\n",
    "        if len(line) is 0:\n",
    "            break\n",
    "        print(line)\n",
    "        x, y, cap, r_time, d_time, s_time = line\n",
    "        print(line)\n",
    "        customer = Customer(x, y, cap, r_time, d_time, s_time)\n",
    "        customers.append(customer)\n",
    "#example:\n",
    "read_file('C101.txt')\n",
    "    \n",
    "    \n",
    "    \n",
    "    "
   ],
   "metadata": {
    "collapsed": false,
    "pycharm": {
     "name": "#%%\n",
     "is_executing": false
    }
   }
  },
  {
   "cell_type": "code",
   "execution_count": 100,
   "outputs": [
    {
     "name": "stdout",
     "text": [
      "(26, 26)\n"
     ],
     "output_type": "stream"
    }
   ],
   "source": [
    "def get_dis_matrix():\n",
    "    global dis_matrix\n",
    "    dis_matrix = np.zeros([len(customers),len(customers)])\n",
    "    for i,f_customer in enumerate(customers):\n",
    "        for j,s_customer in enumerate(customers):\n",
    "            dis_matrix[i, j] = f_customer.get_dis(s_customer)\n",
    "\n",
    "get_dis_matrix()            \n",
    "print(dis_matrix.shape)\n",
    "            "
   ],
   "metadata": {
    "collapsed": false,
    "pycharm": {
     "name": "#%%\n",
     "is_executing": false
    }
   }
  },
  {
   "cell_type": "code",
   "execution_count": null,
   "outputs": [],
   "source": [
    "\n"
   ],
   "metadata": {
    "collapsed": false,
    "pycharm": {
     "name": "#%%\n"
    }
   }
  }
 ],
 "metadata": {
  "language_info": {
   "codemirror_mode": {
    "name": "ipython",
    "version": 2
   },
   "file_extension": ".py",
   "mimetype": "text/x-python",
   "name": "python",
   "nbconvert_exporter": "python",
   "pygments_lexer": "ipython2",
   "version": "2.7.6"
  },
  "kernelspec": {
   "name": "python3",
   "language": "python",
   "display_name": "Python 3"
  },
  "pycharm": {
   "stem_cell": {
    "cell_type": "raw",
    "source": [],
    "metadata": {
     "collapsed": false
    }
   }
  }
 },
 "nbformat": 4,
 "nbformat_minor": 0
}